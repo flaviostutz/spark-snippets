{
 "cells": [
  {
   "cell_type": "markdown",
   "metadata": {},
   "source": [
    "### Initialize Spark session"
   ]
  },
  {
   "cell_type": "code",
   "execution_count": 28,
   "metadata": {},
   "outputs": [
    {
     "name": "stdout",
     "output_type": "stream",
     "text": [
      "Initializing Spark context...\n"
     ]
    },
    {
     "data": {
      "text/plain": [
       "conf = org.apache.spark.SparkConf@3cf4dd5e\n",
       "spark = org.apache.spark.sql.SparkSession@7b9a5d22\n"
      ]
     },
     "metadata": {},
     "output_type": "display_data"
    },
    {
     "data": {
      "text/plain": [
       "org.apache.spark.sql.SparkSession@7b9a5d22"
      ]
     },
     "execution_count": 28,
     "metadata": {},
     "output_type": "execute_result"
    }
   ],
   "source": [
    "import org.apache.spark.SparkConf\n",
    "import org.apache.spark.sql.SparkSession\n",
    "import org.apache.spark.sql.SaveMode\n",
    "\n",
    "import org.apache.hadoop.conf.Configuration\n",
    "import org.apache.hadoop.fs.FileSystem\n",
    "import org.apache.hadoop.fs.Path\n",
    "\n",
    "println(\"Initializing Spark context...\")\n",
    "val conf = new SparkConf()\n",
    "            .setAppName(\"Obfuscate samples\")\n",
    "            .set(\"spark.cores.max\", \"2\")\n",
    "val spark: SparkSession = SparkSession.builder.config(conf).getOrCreate()\n",
    "//if you look in Spark Master UI, a application will be running after this"
   ]
  },
  {
   "cell_type": "markdown",
   "metadata": {},
   "source": [
    "### Initialize HDFS client"
   ]
  },
  {
   "cell_type": "code",
   "execution_count": 29,
   "metadata": {},
   "outputs": [
    {
     "data": {
      "text/plain": [
       "hdfsPrefix = hdfs://namenode1:8020\n",
       "hadoopConf = Configuration: core-default.xml, core-site.xml, mapred-default.xml, mapred-site.xml, yarn-default.xml, yarn-site.xml, hdfs-default.xml, hdfs-site.xml\n",
       "hdfs = DFS[DFSClient[clientName=DFSClient_NONMAPREDUCE_-1838215064_40, ugi=root (auth:SIMPLE)]]\n"
      ]
     },
     "metadata": {},
     "output_type": "display_data"
    },
    {
     "data": {
      "text/plain": [
       "DFS[DFSClient[clientName=DFSClient_NONMAPREDUCE_-1838215064_40, ugi=root (auth:SIMPLE)]]"
      ]
     },
     "execution_count": 29,
     "metadata": {},
     "output_type": "execute_result"
    }
   ],
   "source": [
    "val hdfsPrefix = sys.env(\"HDFS_URL\")\n",
    "val hadoopConf = new Configuration()\n",
    "hadoopConf.set(\"fs.defaultFS\", sys.env(\"HDFS_URL\"))\n",
    "val hdfs = FileSystem.get(hadoopConf)"
   ]
  },
  {
   "cell_type": "markdown",
   "metadata": {},
   "source": [
    "### Load real samples and obfuscate them"
   ]
  },
  {
   "cell_type": "code",
   "execution_count": 30,
   "metadata": {},
   "outputs": [
    {
     "name": "stdout",
     "output_type": "stream",
     "text": [
      "Copying samples file to HDFS...\n"
     ]
    },
    {
     "data": {
      "text/plain": [
       "srcPath = /notebooks/obfuscate-geo-samples/fake-samples.csv\n",
       "destPath = hdfs:/tmp/real-samples.csv\n"
      ]
     },
     "metadata": {},
     "output_type": "display_data"
    },
    {
     "data": {
      "text/plain": [
       "hdfs:/tmp/real-samples.csv"
      ]
     },
     "execution_count": 30,
     "metadata": {},
     "output_type": "execute_result"
    }
   ],
   "source": [
    "println(\"Copying samples file to HDFS...\")\n",
    "//NEVER SAVE REAL SAMPLES IN GIT!\n",
    "val srcPath = new Path(\"/notebooks/obfuscate-geo-samples/fake-samples.csv\")\n",
    "val destPath = new Path(\"hdfs:///tmp/real-samples.csv\")\n",
    "hdfs.copyFromLocalFile(srcPath, destPath)"
   ]
  },
  {
   "cell_type": "code",
   "execution_count": 31,
   "metadata": {},
   "outputs": [
    {
     "name": "stdout",
     "output_type": "stream",
     "text": [
      "Load CSV from HDFS to Dataframe\n"
     ]
    },
    {
     "data": {
      "text/plain": [
       "df = [time: timestamp, personId: string ... 3 more fields]\n"
      ]
     },
     "metadata": {},
     "output_type": "display_data"
    },
    {
     "data": {
      "text/plain": [
       "[time: timestamp, personId: string ... 3 more fields]"
      ]
     },
     "execution_count": 31,
     "metadata": {},
     "output_type": "execute_result"
    }
   ],
   "source": [
    "println(\"Load CSV from HDFS to Dataframe\")\n",
    "val df = spark.read\n",
    "          .format(\"com.databricks.spark.csv\")\n",
    "          .option(\"inferSchema\", \"true\")\n",
    "          .option(\"header\", \"true\")\n",
    "          .load(hdfsPrefix + \"/tmp/real-samples.csv\")\n",
    "// df.describe().show()"
   ]
  },
  {
   "cell_type": "code",
   "execution_count": 32,
   "metadata": {},
   "outputs": [
    {
     "name": "stdout",
     "output_type": "stream",
     "text": [
      "Create partitioned file by personId in HDFS\n"
     ]
    },
    {
     "data": {
      "text/plain": [
       "df1 = [time: timestamp, personId: string ... 3 more fields]\n"
      ]
     },
     "metadata": {},
     "output_type": "display_data"
    },
    {
     "data": {
      "text/plain": [
       "[time: timestamp, personId: string ... 3 more fields]"
      ]
     },
     "execution_count": 32,
     "metadata": {},
     "output_type": "execute_result"
    }
   ],
   "source": [
    "println(\"Create partitioned file by personId in HDFS\")\n",
    "import org.apache.spark.HashPartitioner\n",
    "val df1 = df.repartition(50, $\"personId\")\n",
    "df1.write\n",
    "   .format(\"com.databricks.spark.csv\")\n",
    "   .mode(\"overwrite\")\n",
    "   .save(hdfsPrefix + \"/tmp/real-samples-partitioned.csv\")"
   ]
  },
  {
   "cell_type": "code",
   "execution_count": 33,
   "metadata": {},
   "outputs": [
    {
     "name": "stdout",
     "output_type": "stream",
     "text": [
      "Load partitioned CSV from HDFS\n",
      "Partitions loaded: 2\n"
     ]
    },
    {
     "data": {
      "text/plain": [
       "df2 = [2019-04-18T03:49:11.000Z: timestamp, ccc: string ... 3 more fields]\n"
      ]
     },
     "metadata": {},
     "output_type": "display_data"
    },
    {
     "data": {
      "text/plain": [
       "[2019-04-18T03:49:11.000Z: timestamp, ccc: string ... 3 more fields]"
      ]
     },
     "execution_count": 33,
     "metadata": {},
     "output_type": "execute_result"
    }
   ],
   "source": [
    "println(\"Load partitioned CSV from HDFS\")\n",
    "val df2 = spark.read\n",
    "    .format(\"com.databricks.spark.csv\")\n",
    "    .option(\"inferSchema\", \"true\")\n",
    "    .option(\"header\", \"true\")\n",
    "    .load(hdfsPrefix + \"/tmp/real-samples-partitioned.csv\")\n",
    "\n",
    "println(\"Partitions loaded: \" + df2.rdd.partitions.size)"
   ]
  },
  {
   "cell_type": "code",
   "execution_count": 34,
   "metadata": {},
   "outputs": [
    {
     "name": "stdout",
     "output_type": "stream",
     "text": [
      "Group by user\n",
      "Create random ids and translate positions randomly for each user\n",
      "Flatten results\n",
      "Sort results by timestamp\n"
     ]
    },
    {
     "data": {
      "text/plain": [
       "rdd2 = ShuffledRDD[73] at groupBy at <console>:72\n",
       "rdd3 = MapPartitionsRDD[74] at map at <console>:75\n",
       "rdd4 = MapPartitionsRDD[75] at flatMap at <console>:88\n",
       "rdd5 = MapPartitionsRDD[80] at sortBy at <console>:94\n",
       "rdd6 = MapPartitionsRDD[81] at map at <console>:98\n"
      ]
     },
     "metadata": {},
     "output_type": "display_data"
    },
    {
     "data": {
      "text/plain": [
       "MapPartitionsRDD[81] at map at <console>:98"
      ]
     },
     "execution_count": 34,
     "metadata": {},
     "output_type": "execute_result"
    }
   ],
   "source": [
    "import java.util.UUID.randomUUID\n",
    "\n",
    "println(\"Group by user\")\n",
    "val rdd2 = df2.rdd.groupBy(r => r(1))\n",
    "\n",
    "println(\"Create random ids and translate positions randomly for each user\")\n",
    "val rdd3 = rdd2.map(e => {\n",
    "    val rnd = scala.util.Random\n",
    "    val (k, v) = e\n",
    "    val idd = randomUUID().toString\n",
    "    val latd = rnd.nextFloat*0.1\n",
    "    val lond = rnd.nextFloat*0.1\n",
    "    val nm = v.map(a => {\n",
    "        (a(0),idd,a(2).asInstanceOf[Double]+latd,a(3).asInstanceOf[Double]+lond,a(4))\n",
    "    })\n",
    "    (k, nm)\n",
    "})\n",
    "\n",
    "println(\"Flatten results\")\n",
    "val rdd4 = rdd3.flatMap(e => {\n",
    "    val (k, v) = e\n",
    "    v\n",
    "})\n",
    "\n",
    "println(\"Sort results by timestamp\")\n",
    "val rdd5 = rdd4.sortBy[String](e => {\n",
    "    val (t, v, v2, v3, v4) = e\n",
    "    t.toString\n",
    "})\n",
    "val rdd6 = rdd5.map(e => {\n",
    "    (e._1.toString, e._2.toString, e._3.toString, e._4.toString, e._5.toString)\n",
    "})\n",
    "\n",
    "// rdd5.foreach(e => {\n",
    "//   println(\"#3333#\" + e)\n",
    "// })"
   ]
  },
  {
   "cell_type": "markdown",
   "metadata": {},
   "source": [
    "### Save obfuscated file"
   ]
  },
  {
   "cell_type": "code",
   "execution_count": 48,
   "metadata": {},
   "outputs": [
    {
     "name": "stdout",
     "output_type": "stream",
     "text": [
      "Saving to HDFS\n",
      "Saved obfuscated samples using 2 partitions\n"
     ]
    },
    {
     "data": {
      "text/plain": [
       "df = [time: string, personId: string ... 3 more fields]\n"
      ]
     },
     "metadata": {},
     "output_type": "display_data"
    },
    {
     "data": {
      "text/plain": [
       "[time: string, personId: string ... 3 more fields]"
      ]
     },
     "execution_count": 48,
     "metadata": {},
     "output_type": "execute_result"
    }
   ],
   "source": [
    "println(\"Saving to HDFS\")\n",
    "\n",
    "hdfs.delete(new org.apache.hadoop.fs.Path(fp), true)\n",
    "val df = rdd6.toDF(\"time\",\"personId\",\"lat\",\"lon\",\"type\")\n",
    "df.write\n",
    "    .format(\"csv\")\n",
    "    .option(\"header\", \"true\")\n",
    "    .save(hdfsPrefix + \"/output/obfuscated-samples.csv\")\n",
    "println(\"Saved obfuscated samples using \" + df.rdd.getNumPartitions + \" partitions\")"
   ]
  },
  {
   "cell_type": "code",
   "execution_count": 49,
   "metadata": {},
   "outputs": [
    {
     "name": "stdout",
     "output_type": "stream",
     "text": [
      "Save obfuscated file to workspace\n",
      "Writing CSV file\n"
     ]
    },
    {
     "data": {
      "text/plain": [
       "obr = Array((2019-04-18 04:03:31.0,fe398302-eace-4edf-b320-b186cb88056a,-3.357748723087311,-60.94283144612884,gps), (2019-04-18 04:09:27.0,f57ded61-bb16-4f5d-80c1-0a0cbbc63a07,-8.524663236896515,-32.287343468170164,gps), (2019-04-18 04:24:11.0,fe398302-eace-4edf-b320-b186cb88056a,-3.157759723087311,-68.94285644612884,gps), (2019-04-18 04:30:45.0,f57ded61-bb16-4f5d-80c1-0a0cbbc63a07,-8.824724236896516,-34.28730446817016,gps))\n",
       "obr2 = List(Array(2019-04-18 04:03:31.0, fe398302-eace-4edf-b320-b186cb88056a, -3.357748723087311, -60....\n"
      ]
     },
     "metadata": {},
     "output_type": "display_data"
    },
    {
     "data": {
      "text/plain": [
       "List(Array(2019-04-18 04:03:31.0, fe398302-eace-4edf-b320-b186cb88056a, -3.357748723087311, -60...."
      ]
     },
     "execution_count": 49,
     "metadata": {},
     "output_type": "execute_result"
    }
   ],
   "source": [
    "import java.io.{BufferedWriter, FileWriter}\n",
    "import scala.collection.JavaConversions._\n",
    "import scala.collection.mutable.ListBuffer\n",
    "import au.com.bytecode.opencsv.CSVWriter\n",
    "import scala.util.Random\n",
    "\n",
    "println(\"Save obfuscated file to workspace\")\n",
    "val obr = rdd6.collect()\n",
    "val obr2 = obr.toList.map(e => Array(e._1.toString, e._2.toString, e._3.toString, e._4.toString, e._5.toString))\n",
    "val outputFile = new BufferedWriter(new FileWriter(\"/notebooks/obfuscate-geo-samples/obfuscated-samples.csv\"))\n",
    "val csvWriter = new CSVWriter(outputFile, ',', CSVWriter.NO_QUOTE_CHARACTER)\n",
    "val csvSchema = Array(\"time\", \"person_id\", \"lat\", \"lon\", \"type\")\n",
    "println(\"Writing CSV file\")\n",
    "csvWriter.writeNext(csvSchema)\n",
    "csvWriter.writeAll(obr2.toList)\n",
    "outputFile.close()"
   ]
  },
  {
   "cell_type": "markdown",
   "metadata": {},
   "source": [
    "### Remove temp files"
   ]
  },
  {
   "cell_type": "code",
   "execution_count": 50,
   "metadata": {},
   "outputs": [
    {
     "data": {
      "text/plain": [
       "tmpPath = /tmp\n"
      ]
     },
     "metadata": {},
     "output_type": "display_data"
    },
    {
     "data": {
      "text/plain": [
       "true"
      ]
     },
     "execution_count": 50,
     "metadata": {},
     "output_type": "execute_result"
    }
   ],
   "source": [
    "val tmpPath = new Path(\"/tmp\")\n",
    "hdfs.delete(tmpPath, true)"
   ]
  },
  {
   "cell_type": "markdown",
   "metadata": {},
   "source": [
    "### Stop application"
   ]
  },
  {
   "cell_type": "code",
   "execution_count": 51,
   "metadata": {},
   "outputs": [
    {
     "name": "stdout",
     "output_type": "stream",
     "text": [
      "Stop Spark session\n"
     ]
    },
    {
     "data": {
      "text/plain": [
       "Waiting for a Spark session to start..."
      ]
     },
     "metadata": {},
     "output_type": "display_data"
    }
   ],
   "source": [
    "println(\"Stop Spark session\")\n",
    "spark.stop()\n",
    "//if you look in Spark Master UI, no application will be running after stop"
   ]
  },
  {
   "cell_type": "code",
   "execution_count": null,
   "metadata": {},
   "outputs": [],
   "source": []
  }
 ],
 "metadata": {
  "kernelspec": {
   "display_name": "Spark - Toree - Scala",
   "language": "scala",
   "name": "spark_-_toree_scala"
  },
  "language_info": {
   "codemirror_mode": "text/x-scala",
   "file_extension": ".scala",
   "mimetype": "text/x-scala",
   "name": "scala",
   "pygments_lexer": "scala",
   "version": "2.11.12"
  }
 },
 "nbformat": 4,
 "nbformat_minor": 4
}
